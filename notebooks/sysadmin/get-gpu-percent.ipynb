{
 "cells": [
  {
   "cell_type": "code",
   "execution_count": 8,
   "metadata": {
    "collapsed": true
   },
   "outputs": [],
   "source": [
    "import os,sys\n",
    "import subprocess\n",
    "import re"
   ]
  },
  {
   "cell_type": "code",
   "execution_count": 147,
   "metadata": {
    "collapsed": false
   },
   "outputs": [],
   "source": [
    "def get_gpu_per():\n",
    "    \n",
    "    df = subprocess.check_output(\"/usr/bin/nvidia-smi\")\n",
    "    if not isinstance(df, str):\n",
    "        df = df.decode(\"utf-8\")\n",
    "    lines = df.split('\\n')\n",
    "    stats = lines[8].split('|')\n",
    "    stats.pop(0) # remove first\n",
    "    stats.pop() # remove last\n",
    "    \n",
    "    gpu_fan_per = re.search(r\"([0-9]{1,3})\", stats[0]).group()\n",
    "    gpu_temp = re.search(r\"([0-9^C]{1,3})\", stats[0]).group()\n",
    "    stats[1] = stats[1].replace('MiB','') # RAM\n",
    "    gpu_ram_cur, gpu_ram_tot = stats[1].split('/')[:2]\n",
    "    gpu_util_per = re.search(r\"([0-9]{1,3})\", stats[2]).group()\n",
    "    gpu_wattage = re.search(r\"([0-9W]{1,3})\", stats[0]).group()\n",
    "    return {\n",
    "        'gpu_fan_per'\n",
    "    }\n",
    "    \n",
    "#     print('gpu_wattage: {}'.format(gpu_wattage))\n",
    "#     print('gpu_temp: {}'.format(gpu_temp))\n",
    "#     print('gpu_ram_cur: {}'.format(gpu_ram_cur.strip()))\n",
    "#     print('gpu_ram_tot: {}'.format(gpu_ram_tot.strip()))\n",
    "#     print('gpu_util_per: {}'.format(gpu_util_per))\n",
    "#     print('gpu_fan_per: {}'.format(gpu_fan_per))\n",
    "    return per\n",
    "\n",
    "per = get_gpu_stats()\n",
    "#print(per)"
   ]
  },
  {
   "cell_type": "code",
   "execution_count": 130,
   "metadata": {
    "collapsed": true
   },
   "outputs": [],
   "source": [
    "device_re = re.compile(\"([0-9]{1,3}%)\", re.I)\n",
    "df = subprocess.check_output(\"lsusb\")\n",
    "if not isinstance(df, str):\n",
    "    df = df.decode(\"utf-8\")\n",
    "\n",
    "devices = []\n",
    "vendor_id = None\n",
    "part_id = None\n",
    "\n",
    "for i in df.split('\\n'):\n",
    "    if i:\n",
    "        info = device_re.match(i)\n",
    "        if info:\n",
    "            dinfo = info.groupdict()\n",
    "            dinfo['device'] = '/dev/bus/usb/%s/%s' % (dinfo.pop('bus'), dinfo.pop('device'))\n",
    "            devices.append(dinfo)"
   ]
  },
  {
   "cell_type": "code",
   "execution_count": 131,
   "metadata": {
    "collapsed": false
   },
   "outputs": [
    {
     "name": "stdout",
     "output_type": "stream",
     "text": [
      "Bus 002 Device 002: ID 8087:0024 Intel Corp. Integrated Rate Matching Hub\n",
      "Bus 002 Device 001: ID 1d6b:0002 Linux Foundation 2.0 root hub\n",
      "Bus 001 Device 006: ID 2109:3431 VIA Labs, Inc. Hub\n",
      "Bus 001 Device 005: ID 2109:3431 VIA Labs, Inc. Hub\n",
      "Bus 001 Device 009: ID 1c4f:0024 SiGma Micro \n",
      "Bus 001 Device 008: ID 05e3:0608 Genesys Logic, Inc. Hub\n",
      "Bus 001 Device 010: ID 046d:c069 Logitech, Inc. M-U0007 [Corded Mouse M500]\n",
      "Bus 001 Device 002: ID 8087:0024 Intel Corp. Integrated Rate Matching Hub\n",
      "Bus 001 Device 001: ID 1d6b:0002 Linux Foundation 2.0 root hub\n",
      "Bus 004 Device 005: ID 0bc2:2321 Seagate RSS LLC Expansion Portable\n",
      "Bus 004 Device 004: ID 0bc2:3322 Seagate RSS LLC \n",
      "Bus 004 Device 003: ID 2109:8110 VIA Labs, Inc. Hub\n",
      "Bus 004 Device 002: ID 2109:8110 VIA Labs, Inc. Hub\n",
      "Bus 004 Device 001: ID 1d6b:0003 Linux Foundation 3.0 root hub\n",
      "Bus 003 Device 008: ID 04b8:0e15 Seiko Epson Corp. \n",
      "Bus 003 Device 007: ID 045e:0772 Microsoft Corp. LifeCam Studio\n",
      "Bus 003 Device 001: ID 1d6b:0002 Linux Foundation 2.0 root hub\n",
      "\n"
     ]
    }
   ],
   "source": [
    "# Get system resources\n",
    "import psutil\n",
    "print(df)"
   ]
  },
  {
   "cell_type": "code",
   "execution_count": 69,
   "metadata": {
    "collapsed": false
   },
   "outputs": [],
   "source": [
    "ps_pid = os.getpid()\n",
    "ps_process = psutil.Process(ps_pid)\n",
    "v_cpu = psutil.cpu_percent()\n",
    "vmem = psutil.virtual_memory()"
   ]
  },
  {
   "cell_type": "code",
   "execution_count": 80,
   "metadata": {
    "collapsed": false
   },
   "outputs": [
    {
     "name": "stdout",
     "output_type": "stream",
     "text": [
      "CPU: 3.5\n",
      "\n",
      "33691717632\n",
      "29443727360\n",
      "12.6\n",
      "3354578944\n",
      "434151424\n",
      "16293580800\n",
      "13827178496\n",
      "2195537920\n",
      "27707449344\n",
      "483012608\n",
      "\n",
      "RAM: 12.6%\n"
     ]
    }
   ],
   "source": [
    "print('CPU: {}'.format(v_cpu))\n",
    "print()\n",
    "print(vmem.total)\n",
    "print(vmem.available)\n",
    "print(vmem.percent)\n",
    "print(vmem.used)\n",
    "print(vmem.free)\n",
    "print(vmem.active)\n",
    "print(vmem.inactive)\n",
    "print(vmem.buffers)\n",
    "print(vmem.cached)\n",
    "print(vmem.shared)\n",
    "print()\n",
    "#print(ps_process)\n",
    "print(\"RAM: {}%\".format(vmem.percent))"
   ]
  },
  {
   "cell_type": "code",
   "execution_count": 90,
   "metadata": {
    "collapsed": true
   },
   "outputs": [],
   "source": [
    "device_re = re.compile(\"Bus\\s+(?P<bus>\\d+)\\s+Device\\s+(?P<device>\\d+).+ID\\s(?P<id>\\w+:\\w+)\\s(?P<tag>.+)$\", re.I)\n",
    "df = subprocess.check_output(\"lsusb\")\n",
    "if not isinstance(df, str):\n",
    "    df = df.decode(\"utf-8\")\n",
    "\n",
    "devices = []\n",
    "vendor_id = None\n",
    "part_id = None\n",
    "\n",
    "for i in df.split('\\n'):\n",
    "    if i:\n",
    "        info = device_re.match(i)\n",
    "        if info:\n",
    "            dinfo = info.groupdict()\n",
    "            dinfo['device'] = '/dev/bus/usb/%s/%s' % (dinfo.pop('bus'), dinfo.pop('device'))\n",
    "            devices.append(dinfo)"
   ]
  },
  {
   "cell_type": "code",
   "execution_count": 91,
   "metadata": {
    "collapsed": false
   },
   "outputs": [
    {
     "name": "stdout",
     "output_type": "stream",
     "text": [
      "[{'id': '8087:0024', 'device': '/dev/bus/usb/002/002', 'tag': 'Intel Corp. Integrated Rate Matching Hub'}, {'id': '1d6b:0002', 'device': '/dev/bus/usb/002/001', 'tag': 'Linux Foundation 2.0 root hub'}, {'id': '2109:3431', 'device': '/dev/bus/usb/001/006', 'tag': 'VIA Labs, Inc. Hub'}, {'id': '2109:3431', 'device': '/dev/bus/usb/001/005', 'tag': 'VIA Labs, Inc. Hub'}, {'id': '1c4f:0024', 'device': '/dev/bus/usb/001/009', 'tag': 'SiGma Micro '}, {'id': '05e3:0608', 'device': '/dev/bus/usb/001/008', 'tag': 'Genesys Logic, Inc. Hub'}, {'id': '046d:c069', 'device': '/dev/bus/usb/001/010', 'tag': 'Logitech, Inc. M-U0007 [Corded Mouse M500]'}, {'id': '8087:0024', 'device': '/dev/bus/usb/001/002', 'tag': 'Intel Corp. Integrated Rate Matching Hub'}, {'id': '1d6b:0002', 'device': '/dev/bus/usb/001/001', 'tag': 'Linux Foundation 2.0 root hub'}, {'id': '0bc2:2321', 'device': '/dev/bus/usb/004/005', 'tag': 'Seagate RSS LLC Expansion Portable'}, {'id': '0bc2:3322', 'device': '/dev/bus/usb/004/004', 'tag': 'Seagate RSS LLC '}, {'id': '2109:8110', 'device': '/dev/bus/usb/004/003', 'tag': 'VIA Labs, Inc. Hub'}, {'id': '2109:8110', 'device': '/dev/bus/usb/004/002', 'tag': 'VIA Labs, Inc. Hub'}, {'id': '1d6b:0003', 'device': '/dev/bus/usb/004/001', 'tag': 'Linux Foundation 3.0 root hub'}, {'id': '04b8:0e15', 'device': '/dev/bus/usb/003/008', 'tag': 'Seiko Epson Corp. '}, {'id': '045e:0772', 'device': '/dev/bus/usb/003/007', 'tag': 'Microsoft Corp. LifeCam Studio'}, {'id': '1d6b:0002', 'device': '/dev/bus/usb/003/001', 'tag': 'Linux Foundation 2.0 root hub'}]\n"
     ]
    }
   ],
   "source": [
    "print(devices)"
   ]
  },
  {
   "cell_type": "code",
   "execution_count": null,
   "metadata": {
    "collapsed": true
   },
   "outputs": [],
   "source": []
  }
 ],
 "metadata": {
  "kernelspec": {
   "display_name": "Python 3",
   "language": "python",
   "name": "python3"
  },
  "language_info": {
   "codemirror_mode": {
    "name": "ipython",
    "version": 3
   },
   "file_extension": ".py",
   "mimetype": "text/x-python",
   "name": "python",
   "nbconvert_exporter": "python",
   "pygments_lexer": "ipython3",
   "version": "3.5.2"
  }
 },
 "nbformat": 4,
 "nbformat_minor": 1
}
